{
 "cells": [
  {
   "cell_type": "code",
   "execution_count": null,
   "id": "ecbb22b2",
   "metadata": {},
   "outputs": [],
   "source": [
    "import pandas as pd\n",
    "import os\n",
    "from IPython.display import display, HTML"
   ]
  },
  {
   "cell_type": "code",
   "execution_count": 7,
   "id": "9791f462",
   "metadata": {},
   "outputs": [
    {
     "name": "stdout",
     "output_type": "stream",
     "text": [
      "/Users/davidliu/co-occur_dm/dataset\n"
     ]
    }
   ],
   "source": [
    "!pwd"
   ]
  },
  {
   "cell_type": "code",
   "execution_count": 5,
   "id": "7525d2e2",
   "metadata": {},
   "outputs": [],
   "source": [
    "folder = \"../dataset\"\n",
    "os.chdir(folder)"
   ]
  },
  {
   "cell_type": "code",
   "execution_count": 19,
   "id": "18f795ee",
   "metadata": {},
   "outputs": [],
   "source": [
    "exp_exp = pd.read_csv(\"explicit-explicit/pdtb3/complete_exp_exp_data_largest.csv\")"
   ]
  },
  {
   "cell_type": "code",
   "execution_count": 26,
   "id": "48d670d3",
   "metadata": {},
   "outputs": [],
   "source": [
    "exp_exp[\"Arg1 Complete\"] = exp_exp[\"Arg1 Complete\"].str.replace(\"\\r\\n\", \" \", regex=False)\n",
    "exp_exp[\"Arg2 Complete\"] = exp_exp[\"Arg2 Complete\"].str.replace(\"\\r\\n\", \" \", regex=False)"
   ]
  },
  {
   "cell_type": "code",
   "execution_count": null,
   "id": "3e1b81d4",
   "metadata": {},
   "outputs": [],
   "source": [
    "exp_exp[\"Explicit Connective2\"]"
   ]
  },
  {
   "cell_type": "code",
   "execution_count": null,
   "id": "3a9a5697",
   "metadata": {},
   "outputs": [],
   "source": [
    "new = ''' \n",
    "His company, without any major effort, sells more machines in China than in Japan. Although it has opened a New Zealand subsidiary, it is still only \"studying\" Japan, the only nation that hasn't adopted IBM-oriented specifications.'''\n",
    "exp_exp.loc[292, \"Arg1 Complete\"] = new"
   ]
  },
  {
   "cell_type": "code",
   "execution_count": 49,
   "id": "535596f6",
   "metadata": {},
   "outputs": [
    {
     "data": {
      "text/html": [
       "<table border=\"1\" class=\"dataframe\">\n",
       "  <thead>\n",
       "    <tr style=\"text-align: right;\">\n",
       "      <th></th>\n",
       "      <th>File Number</th>\n",
       "      <th>Explicit Connective1</th>\n",
       "      <th>Explicit Connective2</th>\n",
       "      <th>Arg1 Complete</th>\n",
       "      <th>Arg2 Complete</th>\n",
       "      <th>Exp Sense1</th>\n",
       "      <th>Exp Sense2</th>\n",
       "    </tr>\n",
       "  </thead>\n",
       "  <tbody>\n",
       "    <tr>\n",
       "      <th>48</th>\n",
       "      <td>wsj_0445</td>\n",
       "      <td>and</td>\n",
       "      <td>because</td>\n",
       "      <td>Though no formal trade barriers exist, the Japanese computer industry is difficult for outsiders to enter. \"If it were an open market, we would have been in in 1983 or 1984,\" says Eckhard Pfeiffer, who heads Compaq Computer Corp. 's European and international operations. His company, without any major effort, sells more machines in China than in Japan. Although it has opened a New Zealand subsidiary, it is still only \"studying\" Japan, the only nation that hasn't adopted IBM-oriented specifications.</td>\n",
       "      <td>general retail centers such as ComputerLand have little presence in Japan, sales remain in the iron grip of established computer makers.</td>\n",
       "      <td>Expansion.Conjunction</td>\n",
       "      <td>Contingency.Cause.Reason</td>\n",
       "    </tr>\n",
       "    <tr>\n",
       "      <th>276</th>\n",
       "      <td>wsj_2250</td>\n",
       "      <td>but</td>\n",
       "      <td>when</td>\n",
       "      <td>But some industry observers believe the resurgence of black and white is only a fad. They cite the emergence of still electronic photography, more newspapers turning to color on their pages and measurable improvements in the quality of color prints.   \"Black and white hasn't made the same quantum leaps in technological development as color,\" says Mr. Butler of the Rochester Institute. \"The color print today is far superior to prints of 10 years ago. You can't say the same with black and white.\"</td>\n",
       "      <td>Popular Photography, a leading magazine for photographers, selected 15 of the greatest photos ever made for its latest issue celebrating photography's 150th anniversary, all were black and white.</td>\n",
       "      <td>Comparison.Concession.Arg2-as-denier</td>\n",
       "      <td>Temporal.Synchronous</td>\n",
       "    </tr>\n",
       "  </tbody>\n",
       "</table>"
      ],
      "text/plain": [
       "<IPython.core.display.HTML object>"
      ]
     },
     "execution_count": 49,
     "metadata": {},
     "output_type": "execute_result"
    }
   ],
   "source": [
    "tdf = exp_exp[exp_exp[\"Arg1 Complete\"].apply(lambda x: len(x) > len(t))]\n",
    "HTML(tdf.to_html())"
   ]
  },
  {
   "cell_type": "code",
   "execution_count": 51,
   "id": "92705017",
   "metadata": {},
   "outputs": [
    {
     "data": {
      "text/plain": [
       "Explicit Connective2\n",
       "when           61\n",
       "if             55\n",
       "while          38\n",
       "as             24\n",
       "because        17\n",
       "with           14\n",
       "before         13\n",
       "although       11\n",
       "though         10\n",
       "after           8\n",
       "even if         7\n",
       "once            7\n",
       "since           6\n",
       "by              6\n",
       "now that        5\n",
       "even though     4\n",
       "even when       3\n",
       "instead of      3\n",
       "even before     2\n",
       "rather than     2\n",
       "yet             1\n",
       "no matter       1\n",
       "therefore       1\n",
       "as soon as      1\n",
       "until           1\n",
       "even after      1\n",
       "Name: count, dtype: int64"
      ]
     },
     "execution_count": 51,
     "metadata": {},
     "output_type": "execute_result"
    }
   ],
   "source": [
    "exp_exp[\"Explicit Connective2\"].value_counts()"
   ]
  },
  {
   "cell_type": "markdown",
   "id": "fc41e94f",
   "metadata": {},
   "source": [
    "# Save Cleaned Dataset"
   ]
  },
  {
   "cell_type": "code",
   "execution_count": 53,
   "id": "e30d6d93",
   "metadata": {},
   "outputs": [],
   "source": [
    "exp_exp.to_csv(\"exp_exp_topS.csv\")"
   ]
  },
  {
   "cell_type": "markdown",
   "id": "92517dea",
   "metadata": {},
   "source": [
    "# View Dataset"
   ]
  },
  {
   "cell_type": "code",
   "execution_count": null,
   "id": "b0804e0f",
   "metadata": {},
   "outputs": [],
   "source": [
    "HTML(exp_exp.to_html())"
   ]
  }
 ],
 "metadata": {
  "kernelspec": {
   "display_name": "base",
   "language": "python",
   "name": "python3"
  },
  "language_info": {
   "codemirror_mode": {
    "name": "ipython",
    "version": 3
   },
   "file_extension": ".py",
   "mimetype": "text/x-python",
   "name": "python",
   "nbconvert_exporter": "python",
   "pygments_lexer": "ipython3",
   "version": "3.11.8"
  }
 },
 "nbformat": 4,
 "nbformat_minor": 5
}
