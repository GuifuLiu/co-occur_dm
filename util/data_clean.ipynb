{
 "cells": [
  {
   "cell_type": "code",
   "execution_count": 2,
   "id": "ecbb22b2",
   "metadata": {},
   "outputs": [],
   "source": [
    "import pandas as pd\n",
    "import os\n",
    "from IPython.display import display, HTML"
   ]
  },
  {
   "cell_type": "code",
   "execution_count": 7,
   "id": "9791f462",
   "metadata": {},
   "outputs": [
    {
     "name": "stdout",
     "output_type": "stream",
     "text": [
      "/Users/davidliu/co-occur_dm/dataset\n"
     ]
    }
   ],
   "source": [
    "!pwd"
   ]
  },
  {
   "cell_type": "code",
   "execution_count": 3,
   "id": "7525d2e2",
   "metadata": {},
   "outputs": [],
   "source": [
    "folder = \"../dataset\"\n",
    "os.chdir(folder)"
   ]
  },
  {
   "cell_type": "code",
   "execution_count": 5,
   "id": "18f795ee",
   "metadata": {},
   "outputs": [
    {
     "data": {
      "text/html": [
       "<div>\n",
       "<style scoped>\n",
       "    .dataframe tbody tr th:only-of-type {\n",
       "        vertical-align: middle;\n",
       "    }\n",
       "\n",
       "    .dataframe tbody tr th {\n",
       "        vertical-align: top;\n",
       "    }\n",
       "\n",
       "    .dataframe thead th {\n",
       "        text-align: right;\n",
       "    }\n",
       "</style>\n",
       "<table border=\"1\" class=\"dataframe\">\n",
       "  <thead>\n",
       "    <tr style=\"text-align: right;\">\n",
       "      <th></th>\n",
       "      <th>File Number</th>\n",
       "      <th>Explicit Connective</th>\n",
       "      <th>Implicit Connective</th>\n",
       "      <th>Arg1 Complete</th>\n",
       "      <th>Arg2 Complete</th>\n",
       "      <th>Explicit Sense1</th>\n",
       "      <th>Implicit Sense1</th>\n",
       "    </tr>\n",
       "  </thead>\n",
       "  <tbody>\n",
       "    <tr>\n",
       "      <th>0</th>\n",
       "      <td>wsj_0003</td>\n",
       "      <td>and</td>\n",
       "      <td>then</td>\n",
       "      <td>The Lorillard spokeswoman said asbestos was us...</td>\n",
       "      <td>replaced with a different type of filter in 1956.</td>\n",
       "      <td>Expansion.Conjunction</td>\n",
       "      <td>Temporal.Asynchronous.Precedence</td>\n",
       "    </tr>\n",
       "    <tr>\n",
       "      <th>1</th>\n",
       "      <td>wsj_0003</td>\n",
       "      <td>and</td>\n",
       "      <td>as a result</td>\n",
       "      <td>More common chrysotile fibers are curly</td>\n",
       "      <td>are more easily rejected by the body, Dr. Moss...</td>\n",
       "      <td>Expansion.Conjunction</td>\n",
       "      <td>Contingency.Cause.Result</td>\n",
       "    </tr>\n",
       "    <tr>\n",
       "      <th>2</th>\n",
       "      <td>wsj_0003</td>\n",
       "      <td>and</td>\n",
       "      <td>then</td>\n",
       "      <td>Workers dumped large burlap sacks of the impor...</td>\n",
       "      <td>mechanically mixed the dry fibers in a process...</td>\n",
       "      <td>Expansion.Conjunction</td>\n",
       "      <td>Temporal.Asynchronous.Precedence</td>\n",
       "    </tr>\n",
       "    <tr>\n",
       "      <th>3</th>\n",
       "      <td>wsj_0012</td>\n",
       "      <td>and</td>\n",
       "      <td>then</td>\n",
       "      <td>The magazine will reward with \"page bonuses\" a...</td>\n",
       "      <td>$340,000 in 1990.</td>\n",
       "      <td>Expansion.Conjunction</td>\n",
       "      <td>Temporal.Asynchronous.Precedence</td>\n",
       "    </tr>\n",
       "    <tr>\n",
       "      <th>4</th>\n",
       "      <td>wsj_0013</td>\n",
       "      <td>and</td>\n",
       "      <td>yet</td>\n",
       "      <td>John Rowe, president and chief executive offic...</td>\n",
       "      <td>its forecasts related to PS of New Hampshire -...</td>\n",
       "      <td>Expansion.Conjunction</td>\n",
       "      <td>Comparison.Concession.Arg2-as-denier</td>\n",
       "    </tr>\n",
       "    <tr>\n",
       "      <th>...</th>\n",
       "      <td>...</td>\n",
       "      <td>...</td>\n",
       "      <td>...</td>\n",
       "      <td>...</td>\n",
       "      <td>...</td>\n",
       "      <td>...</td>\n",
       "      <td>...</td>\n",
       "    </tr>\n",
       "    <tr>\n",
       "      <th>1674</th>\n",
       "      <td>wsj_2451</td>\n",
       "      <td>and</td>\n",
       "      <td>then</td>\n",
       "      <td>Studios are \"powerless\" to get shows in prime-...</td>\n",
       "      <td>keep them there long enough to go into lucrati...</td>\n",
       "      <td>Expansion.Conjunction</td>\n",
       "      <td>Temporal.Asynchronous.Precedence</td>\n",
       "    </tr>\n",
       "    <tr>\n",
       "      <th>1675</th>\n",
       "      <td>wsj_2451</td>\n",
       "      <td>and</td>\n",
       "      <td>as a result</td>\n",
       "      <td>In his article, Mr. Holston, who was in Europe...</td>\n",
       "      <td>unavailable, complained that the \"archaic rest...</td>\n",
       "      <td>Expansion.Conjunction</td>\n",
       "      <td>Contingency.Cause.Result</td>\n",
       "    </tr>\n",
       "    <tr>\n",
       "      <th>1676</th>\n",
       "      <td>wsj_2453</td>\n",
       "      <td>and</td>\n",
       "      <td>in particular</td>\n",
       "      <td>Our bookings improved as the quarter progressed</td>\n",
       "      <td>September was especially good.</td>\n",
       "      <td>Expansion.Conjunction</td>\n",
       "      <td>Expansion.Instantiation.Arg2-as-instance</td>\n",
       "    </tr>\n",
       "    <tr>\n",
       "      <th>1677</th>\n",
       "      <td>wsj_2454</td>\n",
       "      <td>and</td>\n",
       "      <td>as a result</td>\n",
       "      <td>Under the laws of the land, the ANC remains an...</td>\n",
       "      <td>its headquarters are still in Lusaka, Zambia.</td>\n",
       "      <td>Expansion.Conjunction</td>\n",
       "      <td>Contingency.Cause.Result</td>\n",
       "    </tr>\n",
       "    <tr>\n",
       "      <th>1678</th>\n",
       "      <td>wsj_2454</td>\n",
       "      <td>and</td>\n",
       "      <td>yet</td>\n",
       "      <td>\"We want to see Nelson Mandela and all our com...</td>\n",
       "      <td>if we aren't disciplined we may not see them h...</td>\n",
       "      <td>Expansion.Conjunction</td>\n",
       "      <td>Comparison.Concession.Arg2-as-denier</td>\n",
       "    </tr>\n",
       "  </tbody>\n",
       "</table>\n",
       "<p>1679 rows × 7 columns</p>\n",
       "</div>"
      ],
      "text/plain": [
       "     File Number Explicit Connective Implicit Connective  \\\n",
       "0       wsj_0003                 and                then   \n",
       "1       wsj_0003                 and         as a result   \n",
       "2       wsj_0003                 and                then   \n",
       "3       wsj_0012                 and                then   \n",
       "4       wsj_0013                 and                 yet   \n",
       "...          ...                 ...                 ...   \n",
       "1674    wsj_2451                 and                then   \n",
       "1675    wsj_2451                 and         as a result   \n",
       "1676    wsj_2453                 and       in particular   \n",
       "1677    wsj_2454                 and         as a result   \n",
       "1678    wsj_2454                 and                 yet   \n",
       "\n",
       "                                          Arg1 Complete  \\\n",
       "0     The Lorillard spokeswoman said asbestos was us...   \n",
       "1               More common chrysotile fibers are curly   \n",
       "2     Workers dumped large burlap sacks of the impor...   \n",
       "3     The magazine will reward with \"page bonuses\" a...   \n",
       "4     John Rowe, president and chief executive offic...   \n",
       "...                                                 ...   \n",
       "1674  Studios are \"powerless\" to get shows in prime-...   \n",
       "1675  In his article, Mr. Holston, who was in Europe...   \n",
       "1676    Our bookings improved as the quarter progressed   \n",
       "1677  Under the laws of the land, the ANC remains an...   \n",
       "1678  \"We want to see Nelson Mandela and all our com...   \n",
       "\n",
       "                                          Arg2 Complete  \\\n",
       "0     replaced with a different type of filter in 1956.   \n",
       "1     are more easily rejected by the body, Dr. Moss...   \n",
       "2     mechanically mixed the dry fibers in a process...   \n",
       "3                                     $340,000 in 1990.   \n",
       "4     its forecasts related to PS of New Hampshire -...   \n",
       "...                                                 ...   \n",
       "1674  keep them there long enough to go into lucrati...   \n",
       "1675  unavailable, complained that the \"archaic rest...   \n",
       "1676                     September was especially good.   \n",
       "1677      its headquarters are still in Lusaka, Zambia.   \n",
       "1678  if we aren't disciplined we may not see them h...   \n",
       "\n",
       "            Explicit Sense1                           Implicit Sense1  \n",
       "0     Expansion.Conjunction          Temporal.Asynchronous.Precedence  \n",
       "1     Expansion.Conjunction                  Contingency.Cause.Result  \n",
       "2     Expansion.Conjunction          Temporal.Asynchronous.Precedence  \n",
       "3     Expansion.Conjunction          Temporal.Asynchronous.Precedence  \n",
       "4     Expansion.Conjunction      Comparison.Concession.Arg2-as-denier  \n",
       "...                     ...                                       ...  \n",
       "1674  Expansion.Conjunction          Temporal.Asynchronous.Precedence  \n",
       "1675  Expansion.Conjunction                  Contingency.Cause.Result  \n",
       "1676  Expansion.Conjunction  Expansion.Instantiation.Arg2-as-instance  \n",
       "1677  Expansion.Conjunction                  Contingency.Cause.Result  \n",
       "1678  Expansion.Conjunction      Comparison.Concession.Arg2-as-denier  \n",
       "\n",
       "[1679 rows x 7 columns]"
      ]
     },
     "execution_count": 5,
     "metadata": {},
     "output_type": "execute_result"
    }
   ],
   "source": [
    "df = pd.read_csv(\"explicit-implicit/pdtb3/complete_exp_imp_conn_middle_largest.csv\")\n",
    "# /Users/davidliu/co-occur_dm/dataset/explicit-implicit/pdtb3/\n",
    "df"
   ]
  },
  {
   "cell_type": "code",
   "execution_count": null,
   "id": "a3cb6dbe",
   "metadata": {},
   "outputs": [
    {
     "ename": "AttributeError",
     "evalue": "'Series' object has no attribute 'drop_index'",
     "output_type": "error",
     "traceback": [
      "\u001b[0;31m---------------------------------------------------------------------------\u001b[0m",
      "\u001b[0;31mAttributeError\u001b[0m                            Traceback (most recent call last)",
      "\u001b[0;32m/var/folders/m4/xgrzb9k53t3cdtv5zty5cfg80000gn/T/ipykernel_75902/380481174.py\u001b[0m in \u001b[0;36m?\u001b[0;34m()\u001b[0m\n\u001b[0;32m----> 1\u001b[0;31m \u001b[0mcount\u001b[0m \u001b[0;34m=\u001b[0m \u001b[0mdf\u001b[0m\u001b[0;34m[\u001b[0m\u001b[0;34m[\u001b[0m\u001b[0;34m'Explicit Connective'\u001b[0m\u001b[0;34m,\u001b[0m \u001b[0;34m'Implicit Connective'\u001b[0m\u001b[0;34m]\u001b[0m\u001b[0;34m]\u001b[0m\u001b[0;34m.\u001b[0m\u001b[0mvalue_counts\u001b[0m\u001b[0;34m(\u001b[0m\u001b[0;34m)\u001b[0m\u001b[0;34m.\u001b[0m\u001b[0mdrop_index\u001b[0m\u001b[0;34m(\u001b[0m\u001b[0;34m)\u001b[0m\u001b[0;34m\u001b[0m\u001b[0;34m\u001b[0m\u001b[0m\n\u001b[0m\u001b[1;32m      2\u001b[0m \u001b[0mcount\u001b[0m\u001b[0;34m.\u001b[0m\u001b[0mto_csv\u001b[0m\u001b[0;34m(\u001b[0m\u001b[0;34m\"explicit-implicit_conn_count.csv\"\u001b[0m\u001b[0;34m)\u001b[0m\u001b[0;34m\u001b[0m\u001b[0;34m\u001b[0m\u001b[0m\n",
      "\u001b[0;32m~/miniconda3/lib/python3.11/site-packages/pandas/core/generic.py\u001b[0m in \u001b[0;36m?\u001b[0;34m(self, name)\u001b[0m\n\u001b[1;32m   6295\u001b[0m             \u001b[0;32mand\u001b[0m \u001b[0mname\u001b[0m \u001b[0;32mnot\u001b[0m \u001b[0;32min\u001b[0m \u001b[0mself\u001b[0m\u001b[0;34m.\u001b[0m\u001b[0m_accessors\u001b[0m\u001b[0;34m\u001b[0m\u001b[0;34m\u001b[0m\u001b[0m\n\u001b[1;32m   6296\u001b[0m             \u001b[0;32mand\u001b[0m \u001b[0mself\u001b[0m\u001b[0;34m.\u001b[0m\u001b[0m_info_axis\u001b[0m\u001b[0;34m.\u001b[0m\u001b[0m_can_hold_identifiers_and_holds_name\u001b[0m\u001b[0;34m(\u001b[0m\u001b[0mname\u001b[0m\u001b[0;34m)\u001b[0m\u001b[0;34m\u001b[0m\u001b[0;34m\u001b[0m\u001b[0m\n\u001b[1;32m   6297\u001b[0m         ):\n\u001b[1;32m   6298\u001b[0m             \u001b[0;32mreturn\u001b[0m \u001b[0mself\u001b[0m\u001b[0;34m[\u001b[0m\u001b[0mname\u001b[0m\u001b[0;34m]\u001b[0m\u001b[0;34m\u001b[0m\u001b[0;34m\u001b[0m\u001b[0m\n\u001b[0;32m-> 6299\u001b[0;31m         \u001b[0;32mreturn\u001b[0m \u001b[0mobject\u001b[0m\u001b[0;34m.\u001b[0m\u001b[0m__getattribute__\u001b[0m\u001b[0;34m(\u001b[0m\u001b[0mself\u001b[0m\u001b[0;34m,\u001b[0m \u001b[0mname\u001b[0m\u001b[0;34m)\u001b[0m\u001b[0;34m\u001b[0m\u001b[0;34m\u001b[0m\u001b[0m\n\u001b[0m",
      "\u001b[0;31mAttributeError\u001b[0m: 'Series' object has no attribute 'drop_index'"
     ]
    }
   ],
   "source": [
    "count = df[['Explicit Connective', 'Implicit Connective']].value_counts().reset_index()\n",
    "count.to_csv(\"explicit-implicit_conn_count.csv\")"
   ]
  },
  {
   "cell_type": "code",
   "execution_count": 26,
   "id": "48d670d3",
   "metadata": {},
   "outputs": [],
   "source": [
    "exp_exp[\"Arg1 Complete\"] = exp_exp[\"Arg1 Complete\"].str.replace(\"\\r\\n\", \" \", regex=False)\n",
    "exp_exp[\"Arg2 Complete\"] = exp_exp[\"Arg2 Complete\"].str.replace(\"\\r\\n\", \" \", regex=False)"
   ]
  },
  {
   "cell_type": "code",
   "execution_count": null,
   "id": "3e1b81d4",
   "metadata": {},
   "outputs": [],
   "source": [
    "exp_exp[\"Explicit Connective2\"]"
   ]
  },
  {
   "cell_type": "code",
   "execution_count": null,
   "id": "3a9a5697",
   "metadata": {},
   "outputs": [],
   "source": [
    "new = ''' \n",
    "His company, without any major effort, sells more machines in China than in Japan. Although it has opened a New Zealand subsidiary, it is still only \"studying\" Japan, the only nation that hasn't adopted IBM-oriented specifications.'''\n",
    "exp_exp.loc[292, \"Arg1 Complete\"] = new"
   ]
  },
  {
   "cell_type": "code",
   "execution_count": 49,
   "id": "535596f6",
   "metadata": {},
   "outputs": [
    {
     "data": {
      "text/html": [
       "<table border=\"1\" class=\"dataframe\">\n",
       "  <thead>\n",
       "    <tr style=\"text-align: right;\">\n",
       "      <th></th>\n",
       "      <th>File Number</th>\n",
       "      <th>Explicit Connective1</th>\n",
       "      <th>Explicit Connective2</th>\n",
       "      <th>Arg1 Complete</th>\n",
       "      <th>Arg2 Complete</th>\n",
       "      <th>Exp Sense1</th>\n",
       "      <th>Exp Sense2</th>\n",
       "    </tr>\n",
       "  </thead>\n",
       "  <tbody>\n",
       "    <tr>\n",
       "      <th>48</th>\n",
       "      <td>wsj_0445</td>\n",
       "      <td>and</td>\n",
       "      <td>because</td>\n",
       "      <td>Though no formal trade barriers exist, the Japanese computer industry is difficult for outsiders to enter. \"If it were an open market, we would have been in in 1983 or 1984,\" says Eckhard Pfeiffer, who heads Compaq Computer Corp. 's European and international operations. His company, without any major effort, sells more machines in China than in Japan. Although it has opened a New Zealand subsidiary, it is still only \"studying\" Japan, the only nation that hasn't adopted IBM-oriented specifications.</td>\n",
       "      <td>general retail centers such as ComputerLand have little presence in Japan, sales remain in the iron grip of established computer makers.</td>\n",
       "      <td>Expansion.Conjunction</td>\n",
       "      <td>Contingency.Cause.Reason</td>\n",
       "    </tr>\n",
       "    <tr>\n",
       "      <th>276</th>\n",
       "      <td>wsj_2250</td>\n",
       "      <td>but</td>\n",
       "      <td>when</td>\n",
       "      <td>But some industry observers believe the resurgence of black and white is only a fad. They cite the emergence of still electronic photography, more newspapers turning to color on their pages and measurable improvements in the quality of color prints.   \"Black and white hasn't made the same quantum leaps in technological development as color,\" says Mr. Butler of the Rochester Institute. \"The color print today is far superior to prints of 10 years ago. You can't say the same with black and white.\"</td>\n",
       "      <td>Popular Photography, a leading magazine for photographers, selected 15 of the greatest photos ever made for its latest issue celebrating photography's 150th anniversary, all were black and white.</td>\n",
       "      <td>Comparison.Concession.Arg2-as-denier</td>\n",
       "      <td>Temporal.Synchronous</td>\n",
       "    </tr>\n",
       "  </tbody>\n",
       "</table>"
      ],
      "text/plain": [
       "<IPython.core.display.HTML object>"
      ]
     },
     "execution_count": 49,
     "metadata": {},
     "output_type": "execute_result"
    }
   ],
   "source": [
    "tdf = exp_exp[exp_exp[\"Arg1 Complete\"].apply(lambda x: len(x) > len(t))]\n",
    "HTML(tdf.to_html())"
   ]
  },
  {
   "cell_type": "code",
   "execution_count": 51,
   "id": "92705017",
   "metadata": {},
   "outputs": [
    {
     "data": {
      "text/plain": [
       "Explicit Connective2\n",
       "when           61\n",
       "if             55\n",
       "while          38\n",
       "as             24\n",
       "because        17\n",
       "with           14\n",
       "before         13\n",
       "although       11\n",
       "though         10\n",
       "after           8\n",
       "even if         7\n",
       "once            7\n",
       "since           6\n",
       "by              6\n",
       "now that        5\n",
       "even though     4\n",
       "even when       3\n",
       "instead of      3\n",
       "even before     2\n",
       "rather than     2\n",
       "yet             1\n",
       "no matter       1\n",
       "therefore       1\n",
       "as soon as      1\n",
       "until           1\n",
       "even after      1\n",
       "Name: count, dtype: int64"
      ]
     },
     "execution_count": 51,
     "metadata": {},
     "output_type": "execute_result"
    }
   ],
   "source": [
    "exp_exp[\"Explicit Connective2\"].value_counts()"
   ]
  },
  {
   "cell_type": "markdown",
   "id": "fc41e94f",
   "metadata": {},
   "source": [
    "# Save Cleaned Dataset"
   ]
  },
  {
   "cell_type": "code",
   "execution_count": 53,
   "id": "e30d6d93",
   "metadata": {},
   "outputs": [],
   "source": [
    "exp_exp.to_csv(\"exp_exp_topS.csv\")"
   ]
  },
  {
   "cell_type": "markdown",
   "id": "92517dea",
   "metadata": {},
   "source": [
    "# View Dataset"
   ]
  },
  {
   "cell_type": "code",
   "execution_count": null,
   "id": "b0804e0f",
   "metadata": {},
   "outputs": [],
   "source": [
    "HTML(exp_exp.to_html())"
   ]
  }
 ],
 "metadata": {
  "kernelspec": {
   "display_name": "base",
   "language": "python",
   "name": "python3"
  },
  "language_info": {
   "codemirror_mode": {
    "name": "ipython",
    "version": 3
   },
   "file_extension": ".py",
   "mimetype": "text/x-python",
   "name": "python",
   "nbconvert_exporter": "python",
   "pygments_lexer": "ipython3",
   "version": "3.11.8"
  }
 },
 "nbformat": 4,
 "nbformat_minor": 5
}
