{
 "cells": [
  {
   "cell_type": "markdown",
   "id": "80de6216",
   "metadata": {},
   "source": [
    "- Explicit-Explicit Discovery: predict Arg2 sent-initial connective\n",
    "- Explicit-Explicit PDTB: predict subsequent connective\n",
    "- Explicit-Implicit: predict implicit "
   ]
  },
  {
   "cell_type": "code",
   "execution_count": 1,
   "id": "ecc1b57b",
   "metadata": {},
   "outputs": [],
   "source": [
    "import openai\n",
    "import pandas as pd\n",
    "import os\n",
    "from tqdm import tqdm\n",
    "from IPython.display import display, HTML\n",
    "import re\n",
    "import json"
   ]
  },
  {
   "cell_type": "code",
   "execution_count": null,
   "id": "36e5c63d",
   "metadata": {},
   "outputs": [],
   "source": [
    "x = '''\n",
    "If you recall this infomercial from December 2008, you probably remember it for lame double entendres like \"You're gonna love my nuts.\"\n",
    "'''\n",
    "should_capitalize = bool(re.search(r'[.!?]\\s*[\"\\']?\\s*$', x))\n",
    "should_capitalize"
   ]
  },
  {
   "cell_type": "code",
   "execution_count": null,
   "id": "7c52b9cd",
   "metadata": {},
   "outputs": [],
   "source": [
    "introduce_marker_symbol = '''\\n  - Take note of the existing discourse marker enclosed by the character [ and ]'''\n",
    "\n",
    "def prepare_system_prompt(type):\n",
    "    prompt_file = \"\"\n",
    "    if type == \"free-insert\":\n",
    "        prompt_file = \"free-insert_system_prompt.txt\"\n",
    "    elif type == \"free-insert-co-occur\":\n",
    "        prompt_file = \"free-insert-coo_system_prompt.txt\"\n",
    "\n",
    "    elif type == \"mask-fill\" or type == \"mask-fill-with-marker-symbol\":\n",
    "        prompt_file = \"mask-fill_system_prompt.txt\"\n",
    "\n",
    "    res = \"\"\n",
    "    with open(prompt_file) as f:\n",
    "        res = f.read()\n",
    "    if \"with-marker-symbol\" in type:\n",
    "        res = res.replace(\"<introduce_marker_symbol>\", introduce_marker_symbol).replace(\"are curly and ___ are more\", \"are curly [and] ___ are more\")\n",
    "    else:\n",
    "        res = res.replace(\"<introduce_marker_symbol>\", \"\")\n",
    "    return res\n",
    "\n",
    "def make_blank_for_prompt(arg1, conn1, arg2, marker_symbol=True, free_insert=False, after=True):\n",
    "    res = \"\"\n",
    "    # conn1\n",
    "    if marker_symbol:\n",
    "        res = \" [\" + conn1 + \"] \"\n",
    "    else:\n",
    "        res = \" \" + conn1 + \" \"\n",
    "\n",
    "    if free_insert:\n",
    "        res = arg1 + res + arg2\n",
    "    else:\n",
    "        if after:\n",
    "            res = arg1 + res + \"___ \" + arg2\n",
    "        else:\n",
    "            res = arg1 + \" ___\" + res + arg2\n",
    "\n",
    "    return res\n",
    "\n",
    "\n",
    "def prepare_user_prompt(arg1, conn1, arg2, type, after=True):\n",
    "    res = \"\"\n",
    "    with open(\"user_prompt.txt\") as f:\n",
    "        res = f.read()\n",
    "\n",
    "    should_capitalize = bool(re.search(r'[.!?]\\s*[\"\\']?\\s*$', arg1))\n",
    "    conn1 = conn1.capitalize() if should_capitalize else conn1 # If arg1 is a complete sentence, conn1 is sentence-initial of arg2.\n",
    "\n",
    "    if type == \"free-insert\" or type == \"free-insert-co-occur\":\n",
    "        passage = make_blank_for_prompt(arg1, conn1, arg2, free_insert = True)\n",
    "        res = res.replace(\"<passage>\", passage)\n",
    "    elif type == \"mask-fill-with-marker-symbol\":\n",
    "        conn1 = conn1.lower() if not after else conn1 # If a blank is inserted before conn1, force it to lowercase\n",
    "        passage = make_blank_for_prompt(arg1, conn1, arg2, after=after)\n",
    "        res = res.replace(\"<passage>\", passage)\n",
    "    elif type == \"mask-fill\":\n",
    "        conn1 = conn1.lower() if not after else conn1 # If a blank is inserted before conn1, force it to lowercase\n",
    "        passage = make_blank_for_prompt(arg1, conn1, arg2, marker_symbol=False, after=after)\n",
    "        res = res.replace(\"<passage>\", passage)\n",
    "    return res\n"
   ]
  },
  {
   "cell_type": "code",
   "execution_count": null,
   "id": "c687d4c8",
   "metadata": {},
   "outputs": [],
   "source": [
    "## CREATE PROMPT SAMPLE\n",
    "\n",
    "arg1 = '''Jacobs may have gotten a temporary reprieve in the eyes of many rank-and-file fans with the hiring of Coach Malzahn, who has made all the right moves so far.'''\n",
    "conn1 = \"ultimately,\"\n",
    "arg2 = '''jacobs is the problem - or, at least, the public face of the problem.'''\n",
    "\n",
    "for type in [\"mask-fill\", \"mask-fill-with-marker-symbol\", \"free-insert\"]:\n",
    "    \n",
    "    print(f\"*************** {type} ***************\")\n",
    "    system_prompt = prepare_system_prompt(type)\n",
    "    user_prompt = prepare_user_prompt(arg1, conn1, arg2, type)\n",
    "\n",
    "    # with open(f\"samples/{type}.txt\", \"w\") as f:\n",
    "    #     f.write(system_prompt + \"\\n\\n\" + user_prompt)\n",
    "    print(system_prompt + \"\\n\\n\" + user_prompt)\n",
    "    print(\"\\n\")"
   ]
  },
  {
   "cell_type": "code",
   "execution_count": null,
   "id": "0ba2a73a",
   "metadata": {},
   "outputs": [],
   "source": [
    "client = openai.OpenAI(\n",
    "    api_key=\"\",\n",
    "\n",
    ")\n",
    "\n",
    "def get_response (arg1, conn1, arg2, type):\n",
    "    response = client.chat.completions.create(\n",
    "        model=\"gpt-4.1-2025-04-14\",  # \"gpt-4o-2024-08-06\", \"gpt-4.1-2025-04-14\"\n",
    "        messages = [\n",
    "            {\n",
    "                \"role\": \"developer\",\n",
    "                \"content\": prepare_system_prompt(type)\n",
    "            },\n",
    "            {\n",
    "                \"role\": \"user\",\n",
    "                \"content\": prepare_user_prompt(arg1, conn1, arg2, type)\n",
    "            }\n",
    "        ]\n",
    "    )\n",
    "    # print(prepare_system_prompt(type))\n",
    "    # print(prepare_user_prompt(arg1, conn1, arg2, type))\n",
    "    return response.choices[0].message.content\n",
    "\n",
    "def get_dm_for_test_set (df, type):\n",
    "    result = []\n",
    "    for i, r in tqdm(df.iterrows(), total=df.shape[0]):\n",
    "        sentence1, sentence2, dm1 = r[\"sentence1\"], r[\"sentence2\"], r[\"dm1\"]\n",
    "        response = get_response(sentence1, dm1, sentence2, type)\n",
    "        response = response.split(\", \")\n",
    "        result.append(response)\n",
    "    return result\n",
    "\n",
    "def format_dm(xss):\n",
    "    return [[x.lower().strip() for x in xs] for xs in xss]"
   ]
  },
  {
   "cell_type": "markdown",
   "id": "06cef546",
   "metadata": {},
   "source": [
    "# Load Test Set"
   ]
  },
  {
   "cell_type": "code",
   "execution_count": null,
   "id": "5cd6d28f",
   "metadata": {},
   "outputs": [],
   "source": [
    "!pwd"
   ]
  },
  {
   "cell_type": "code",
   "execution_count": null,
   "id": "c5535696",
   "metadata": {},
   "outputs": [],
   "source": [
    "folder = \"../../dataset\"\n",
    "os.chdir(folder)"
   ]
  },
  {
   "cell_type": "code",
   "execution_count": null,
   "id": "635bc5e1",
   "metadata": {},
   "outputs": [],
   "source": [
    "test_set = pd.read_csv(\"../dataset/explicit-explicit/discovery/dm1_other/test.csv\")\n",
    "test_set"
   ]
  },
  {
   "cell_type": "code",
   "execution_count": null,
   "id": "3e67ba7e",
   "metadata": {},
   "outputs": [],
   "source": [
    "folder = \"../model/prompt\"\n",
    "os.chdir(folder)"
   ]
  },
  {
   "cell_type": "markdown",
   "id": "f0e086d4",
   "metadata": {},
   "source": [
    "# Cloze"
   ]
  },
  {
   "cell_type": "code",
   "execution_count": null,
   "id": "b012b340",
   "metadata": {},
   "outputs": [],
   "source": [
    "mask_fill = get_dm_for_test_set(test_set, \n",
    "                                \"mask-fill\")"
   ]
  },
  {
   "cell_type": "code",
   "execution_count": null,
   "id": "aff41188",
   "metadata": {},
   "outputs": [],
   "source": [
    "mask_fill = format_dm(mask_fill)\n",
    "test_set[\"cloze\"] = mask_fill"
   ]
  },
  {
   "cell_type": "code",
   "execution_count": null,
   "id": "ff6d9dd2",
   "metadata": {},
   "outputs": [],
   "source": [
    "len(test_set[test_set.apply(lambda r: r[\"dm2\"].lower().rstrip(\", \") in r[\"cloze\"], axis=1)])/ len(test_set)"
   ]
  },
  {
   "cell_type": "markdown",
   "id": "0d1afe55",
   "metadata": {},
   "source": [
    "# Cloze DM marked"
   ]
  },
  {
   "cell_type": "code",
   "execution_count": null,
   "id": "c771fab9",
   "metadata": {},
   "outputs": [],
   "source": [
    "cloze_dm_marked = get_dm_for_test_set(test_set, \n",
    "                                \"mask-fill-with-marker-symbol\")"
   ]
  },
  {
   "cell_type": "code",
   "execution_count": null,
   "id": "95e6fb92",
   "metadata": {},
   "outputs": [],
   "source": [
    "cloze_dm_marked = format_dm(cloze_dm_marked)\n",
    "test_set[\"cloze_dm_marked\"] = cloze_dm_marked"
   ]
  },
  {
   "cell_type": "code",
   "execution_count": null,
   "id": "690ebeb7",
   "metadata": {},
   "outputs": [],
   "source": [
    "len(test_set[test_set.apply(lambda r: r[\"dm2\"].lower().rstrip(\", \") in r[\"cloze_dm_marked\"], axis=1)])/len(test_set)"
   ]
  },
  {
   "cell_type": "markdown",
   "id": "2a5cc04a",
   "metadata": {},
   "source": [
    "# Free Insert"
   ]
  },
  {
   "cell_type": "code",
   "execution_count": null,
   "id": "29d88493",
   "metadata": {},
   "outputs": [],
   "source": [
    "free_insert = get_dm_for_test_set(test_set, \n",
    "                                \"free-insert\")"
   ]
  },
  {
   "cell_type": "code",
   "execution_count": null,
   "id": "3a2ef307",
   "metadata": {},
   "outputs": [],
   "source": [
    "free_insert = format_dm(free_insert)\n",
    "test_set[\"free_insert\"] = free_insert"
   ]
  },
  {
   "cell_type": "code",
   "execution_count": null,
   "id": "0fecfa77",
   "metadata": {},
   "outputs": [],
   "source": [
    "len(test_set[test_set.apply(lambda r: r[\"dm2\"].lower().rstrip(\", \") in r[\"free_insert\"], axis=1)])/len(test_set)"
   ]
  },
  {
   "cell_type": "code",
   "execution_count": null,
   "id": "1c9fd3ad",
   "metadata": {},
   "outputs": [],
   "source": [
    "t = test_set[test_set.apply(lambda r: r[\"dm2\"].lower().rstrip(\", \") not in r[\"free_insert\"], axis=1)]\n",
    "HTML(t.to_html())"
   ]
  },
  {
   "cell_type": "markdown",
   "id": "8115b285",
   "metadata": {},
   "source": [
    "# Save Test Set with Predictions"
   ]
  },
  {
   "cell_type": "code",
   "execution_count": null,
   "id": "75630aba",
   "metadata": {},
   "outputs": [],
   "source": [
    "# Save as Pickle as it contains List DataType\n",
    "model_name = \"gpt4.1\"\n",
    "data_split = \"discovery_other_dm\"\n",
    "test_set.to_pickle(f\"{model_name}_{data_split}_result.pkl\")"
   ]
  },
  {
   "cell_type": "markdown",
   "id": "8286411b",
   "metadata": {},
   "source": [
    "# Load Test Set with Predictions"
   ]
  },
  {
   "cell_type": "code",
   "execution_count": 3,
   "id": "0b0d47a7",
   "metadata": {},
   "outputs": [],
   "source": [
    "folder = \"../../\"\n",
    "os.chdir(folder)"
   ]
  },
  {
   "cell_type": "code",
   "execution_count": 4,
   "id": "171bba59",
   "metadata": {},
   "outputs": [
    {
     "name": "stdout",
     "output_type": "stream",
     "text": [
      "/Users/davidliu/co-occur_dm\n"
     ]
    }
   ],
   "source": [
    "!pwd"
   ]
  },
  {
   "cell_type": "code",
   "execution_count": 5,
   "id": "164bd134",
   "metadata": {},
   "outputs": [
    {
     "data": {
      "text/html": [
       "<div>\n",
       "<style scoped>\n",
       "    .dataframe tbody tr th:only-of-type {\n",
       "        vertical-align: middle;\n",
       "    }\n",
       "\n",
       "    .dataframe tbody tr th {\n",
       "        vertical-align: top;\n",
       "    }\n",
       "\n",
       "    .dataframe thead th {\n",
       "        text-align: right;\n",
       "    }\n",
       "</style>\n",
       "<table border=\"1\" class=\"dataframe\">\n",
       "  <thead>\n",
       "    <tr style=\"text-align: right;\">\n",
       "      <th></th>\n",
       "      <th>id</th>\n",
       "      <th>sentence1</th>\n",
       "      <th>sentence2</th>\n",
       "      <th>dm1</th>\n",
       "      <th>dm2</th>\n",
       "      <th>cloze</th>\n",
       "      <th>cloze_dm_marked</th>\n",
       "      <th>free_insert</th>\n",
       "    </tr>\n",
       "  </thead>\n",
       "  <tbody>\n",
       "    <tr>\n",
       "      <th>0</th>\n",
       "      <td>3282</td>\n",
       "      <td>, and proudly continues that tradition of care...</td>\n",
       "      <td>i have been trying to drag myself out of this ...</td>\n",
       "      <td>lately,</td>\n",
       "      <td>however,</td>\n",
       "      <td>[however, indeed, admittedly, recently, conseq...</td>\n",
       "      <td>[however, eventually, recently, instead, now]</td>\n",
       "      <td>[recently, currently, additionally, moreover, ...</td>\n",
       "    </tr>\n",
       "    <tr>\n",
       "      <th>1</th>\n",
       "      <td>250</td>\n",
       "      <td>A victory?</td>\n",
       "      <td>i'm interested to see what the next couple of ...</td>\n",
       "      <td>maybe,</td>\n",
       "      <td>but</td>\n",
       "      <td>[but, yet, however, still, though]</td>\n",
       "      <td>[perhaps, possibly, potentially, but, still]</td>\n",
       "      <td>[perhaps, possibly, potentially, conceivably, ...</td>\n",
       "    </tr>\n",
       "    <tr>\n",
       "      <th>2</th>\n",
       "      <td>3571</td>\n",
       "      <td>There does appear to be some real intelligence...</td>\n",
       "      <td>you can sort of separate some of the controver...</td>\n",
       "      <td>secondly,</td>\n",
       "      <td>though,</td>\n",
       "      <td>[then, furthermore, consequently, meanwhile, t...</td>\n",
       "      <td>[additionally, furthermore, moreover, in addit...</td>\n",
       "      <td>[furthermore, additionally, moreover, besides,...</td>\n",
       "    </tr>\n",
       "    <tr>\n",
       "      <th>3</th>\n",
       "      <td>199</td>\n",
       "      <td>Is it a call to action by Powell, wanting peop...</td>\n",
       "      <td>whatever the case, it's powerful stuff.</td>\n",
       "      <td>perhaps,</td>\n",
       "      <td>but</td>\n",
       "      <td>[regardless, in any event, anyway, nonetheless...</td>\n",
       "      <td>[in any case, regardless, ultimately, neverthe...</td>\n",
       "      <td>[alternatively, maybe, possibly, conceivably, ...</td>\n",
       "    </tr>\n",
       "    <tr>\n",
       "      <th>4</th>\n",
       "      <td>1935</td>\n",
       "      <td>She then accepted employment in one of the mor...</td>\n",
       "      <td>she did not feel that she deserved this state ...</td>\n",
       "      <td>apparently,</td>\n",
       "      <td>however,</td>\n",
       "      <td>[however, nevertheless, yet, still, surprisingly]</td>\n",
       "      <td>[however, nevertheless, yet, still, somehow]</td>\n",
       "      <td>[however, furthermore, moreover, yet, surprisi...</td>\n",
       "    </tr>\n",
       "    <tr>\n",
       "      <th>...</th>\n",
       "      <td>...</td>\n",
       "      <td>...</td>\n",
       "      <td>...</td>\n",
       "      <td>...</td>\n",
       "      <td>...</td>\n",
       "      <td>...</td>\n",
       "      <td>...</td>\n",
       "      <td>...</td>\n",
       "    </tr>\n",
       "    <tr>\n",
       "      <th>927</th>\n",
       "      <td>6326</td>\n",
       "      <td>At least last night they started the show at t...</td>\n",
       "      <td>when the game's over and you're risking cuttin...</td>\n",
       "      <td>really,</td>\n",
       "      <td>though,</td>\n",
       "      <td>[especially, typically, usually, particularly,...</td>\n",
       "      <td>[i mean, basically, ultimately, essentially, i...</td>\n",
       "      <td>[honestly, actually, frankly, indeed, truthfully]</td>\n",
       "    </tr>\n",
       "    <tr>\n",
       "      <th>928</th>\n",
       "      <td>5705</td>\n",
       "      <td>Note that the eBook versions are typically ava...</td>\n",
       "      <td>the price is the same for both formats (save e...</td>\n",
       "      <td>absolutely,</td>\n",
       "      <td>and</td>\n",
       "      <td>[however, nonetheless, importantly, significan...</td>\n",
       "      <td>[in fact, indeed, furthermore, additionally, m...</td>\n",
       "      <td>[indeed, furthermore, additionally, importantl...</td>\n",
       "    </tr>\n",
       "    <tr>\n",
       "      <th>929</th>\n",
       "      <td>3100</td>\n",
       "      <td>In the good old days, which weren't actually a...</td>\n",
       "      <td>the chef shortage has turned his recruiting pr...</td>\n",
       "      <td>lately,</td>\n",
       "      <td>though,</td>\n",
       "      <td>[however, unfortunately, though, nevertheless,...</td>\n",
       "      <td>[however, unfortunately, recently, increasingl...</td>\n",
       "      <td>[however, recently, consequently, furthermore,...</td>\n",
       "    </tr>\n",
       "    <tr>\n",
       "      <th>930</th>\n",
       "      <td>296</td>\n",
       "      <td>But will that be Djokovic?</td>\n",
       "      <td>a djokovic in what condition?</td>\n",
       "      <td>probably,</td>\n",
       "      <td>but</td>\n",
       "      <td>[possibly, conceivably, perhaps, arguably, maybe]</td>\n",
       "      <td>[then, of course, however, still, perhaps]</td>\n",
       "      <td>[perhaps, maybe, possibly, conceivably, arguably]</td>\n",
       "    </tr>\n",
       "    <tr>\n",
       "      <th>931</th>\n",
       "      <td>2613</td>\n",
       "      <td>\"The people I talked to appreciated his remarks.\"</td>\n",
       "      <td>others were less appreciative.</td>\n",
       "      <td>elsewhere,</td>\n",
       "      <td>however,</td>\n",
       "      <td>[however, meanwhile, conversely, by contrast, ...</td>\n",
       "      <td>[conversely, however, meanwhile, in contrast, ...</td>\n",
       "      <td>[in contrast, however, meanwhile, alternativel...</td>\n",
       "    </tr>\n",
       "  </tbody>\n",
       "</table>\n",
       "<p>932 rows × 8 columns</p>\n",
       "</div>"
      ],
      "text/plain": [
       "       id                                          sentence1  \\\n",
       "0    3282  , and proudly continues that tradition of care...   \n",
       "1     250                                         A victory?   \n",
       "2    3571  There does appear to be some real intelligence...   \n",
       "3     199  Is it a call to action by Powell, wanting peop...   \n",
       "4    1935  She then accepted employment in one of the mor...   \n",
       "..    ...                                                ...   \n",
       "927  6326  At least last night they started the show at t...   \n",
       "928  5705  Note that the eBook versions are typically ava...   \n",
       "929  3100  In the good old days, which weren't actually a...   \n",
       "930   296                         But will that be Djokovic?   \n",
       "931  2613  \"The people I talked to appreciated his remarks.\"   \n",
       "\n",
       "                                             sentence2          dm1       dm2  \\\n",
       "0    i have been trying to drag myself out of this ...      lately,  however,   \n",
       "1    i'm interested to see what the next couple of ...       maybe,       but   \n",
       "2    you can sort of separate some of the controver...    secondly,   though,   \n",
       "3              whatever the case, it's powerful stuff.     perhaps,       but   \n",
       "4    she did not feel that she deserved this state ...  apparently,  however,   \n",
       "..                                                 ...          ...       ...   \n",
       "927  when the game's over and you're risking cuttin...      really,   though,   \n",
       "928  the price is the same for both formats (save e...  absolutely,       and   \n",
       "929  the chef shortage has turned his recruiting pr...      lately,   though,   \n",
       "930                      a djokovic in what condition?    probably,       but   \n",
       "931                     others were less appreciative.   elsewhere,  however,   \n",
       "\n",
       "                                                 cloze  \\\n",
       "0    [however, indeed, admittedly, recently, conseq...   \n",
       "1                   [but, yet, however, still, though]   \n",
       "2    [then, furthermore, consequently, meanwhile, t...   \n",
       "3    [regardless, in any event, anyway, nonetheless...   \n",
       "4    [however, nevertheless, yet, still, surprisingly]   \n",
       "..                                                 ...   \n",
       "927  [especially, typically, usually, particularly,...   \n",
       "928  [however, nonetheless, importantly, significan...   \n",
       "929  [however, unfortunately, though, nevertheless,...   \n",
       "930  [possibly, conceivably, perhaps, arguably, maybe]   \n",
       "931  [however, meanwhile, conversely, by contrast, ...   \n",
       "\n",
       "                                       cloze_dm_marked  \\\n",
       "0        [however, eventually, recently, instead, now]   \n",
       "1         [perhaps, possibly, potentially, but, still]   \n",
       "2    [additionally, furthermore, moreover, in addit...   \n",
       "3    [in any case, regardless, ultimately, neverthe...   \n",
       "4         [however, nevertheless, yet, still, somehow]   \n",
       "..                                                 ...   \n",
       "927  [i mean, basically, ultimately, essentially, i...   \n",
       "928  [in fact, indeed, furthermore, additionally, m...   \n",
       "929  [however, unfortunately, recently, increasingl...   \n",
       "930         [then, of course, however, still, perhaps]   \n",
       "931  [conversely, however, meanwhile, in contrast, ...   \n",
       "\n",
       "                                           free_insert  \n",
       "0    [recently, currently, additionally, moreover, ...  \n",
       "1    [perhaps, possibly, potentially, conceivably, ...  \n",
       "2    [furthermore, additionally, moreover, besides,...  \n",
       "3    [alternatively, maybe, possibly, conceivably, ...  \n",
       "4    [however, furthermore, moreover, yet, surprisi...  \n",
       "..                                                 ...  \n",
       "927  [honestly, actually, frankly, indeed, truthfully]  \n",
       "928  [indeed, furthermore, additionally, importantl...  \n",
       "929  [however, recently, consequently, furthermore,...  \n",
       "930  [perhaps, maybe, possibly, conceivably, arguably]  \n",
       "931  [in contrast, however, meanwhile, alternativel...  \n",
       "\n",
       "[932 rows x 8 columns]"
      ]
     },
     "execution_count": 5,
     "metadata": {},
     "output_type": "execute_result"
    }
   ],
   "source": [
    "df = pd.read_pickle(\"model/prompt/result/gpt4o_discovery_other_dm_result.pkl\")\n",
    "df"
   ]
  },
  {
   "cell_type": "markdown",
   "id": "7590e976",
   "metadata": {},
   "source": [
    "# Sense Evaluation"
   ]
  },
  {
   "cell_type": "code",
   "execution_count": 6,
   "id": "90224e9c",
   "metadata": {},
   "outputs": [],
   "source": [
    "with open('dataset/explicit_connective_senses.json', 'r') as f:\n",
    "    explicit_sense = json.load(f)\n",
    "def get_senses_for_conns (conns):\n",
    "    senses = set()\n",
    "    for conn in conns:\n",
    "        senses.update(explicit_sense.get(conn, {}).keys())\n",
    "    return list(senses)\n",
    "\n",
    "def sense_accuracy(df, B, A=\"dm2_sense\"):\n",
    "    return sum(bool(set(a) & set(b)) for a, b in zip(df[A], df[B])) / len(df)"
   ]
  },
  {
   "cell_type": "code",
   "execution_count": null,
   "id": "ff98ef72",
   "metadata": {},
   "outputs": [],
   "source": [
    "df[\"dm2_sense\"] = df[\"dm2\"].apply(lambda conn: get_senses_for_conns([conn.rstrip(\", \")]))\n",
    "\n",
    "df[\"cloze_sense\"] = df[\"cloze\"].apply(lambda conns: get_senses_for_conns(conns))\n",
    "df[\"cloze_dm_marked_sense\"] = df[\"cloze_dm_marked\"].apply(lambda conns: get_senses_for_conns(conns))\n",
    "df[\"free_insert_sense\"] = df[\"free_insert\"].apply(lambda conns: get_senses_for_conns(conns))"
   ]
  },
  {
   "cell_type": "code",
   "execution_count": null,
   "id": "ac165a33",
   "metadata": {},
   "outputs": [],
   "source": [
    "sense_accuracy(df, \"cloze_sense\"), sense_accuracy(df, \"cloze_dm_marked_sense\"), sense_accuracy(df, \"free_insert_sense\")"
   ]
  },
  {
   "cell_type": "markdown",
   "id": "f878f316",
   "metadata": {},
   "source": [
    "# View Test Set"
   ]
  },
  {
   "cell_type": "code",
   "execution_count": null,
   "id": "405f6bb9",
   "metadata": {},
   "outputs": [],
   "source": [
    "HTML(test_set.to_html())"
   ]
  }
 ],
 "metadata": {
  "kernelspec": {
   "display_name": "base",
   "language": "python",
   "name": "python3"
  },
  "language_info": {
   "codemirror_mode": {
    "name": "ipython",
    "version": 3
   },
   "file_extension": ".py",
   "mimetype": "text/x-python",
   "name": "python",
   "nbconvert_exporter": "python",
   "pygments_lexer": "ipython3",
   "version": "3.11.8"
  }
 },
 "nbformat": 4,
 "nbformat_minor": 5
}
