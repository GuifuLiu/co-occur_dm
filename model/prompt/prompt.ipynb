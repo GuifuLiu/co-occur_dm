{
 "cells": [
  {
   "cell_type": "markdown",
   "id": "80de6216",
   "metadata": {},
   "source": [
    "- Explicit-Explicit Discovery: predict Arg2 sent-initial connective\n",
    "- Explicit-Explicit PDTB: predict subsequent connective\n",
    "- Explicit-Implicit: predict implicit "
   ]
  },
  {
   "cell_type": "code",
   "execution_count": 85,
   "id": "ecc1b57b",
   "metadata": {},
   "outputs": [],
   "source": [
    "import openai\n",
    "import pandas as pd\n",
    "import os\n",
    "from tqdm import tqdm\n",
    "from IPython.display import display, HTML"
   ]
  },
  {
   "cell_type": "code",
   "execution_count": 46,
   "id": "7c52b9cd",
   "metadata": {},
   "outputs": [],
   "source": [
    "introduce_marker_symbol = '''\\n  - Take note of the existing discourse marker enclosed by the character [ and ]'''\n",
    "\n",
    "def prepare_system_prompt(type):\n",
    "    prompt_file = \"\"\n",
    "    if type == \"free-insert\":\n",
    "        prompt_file = \"free-insert_system_prompt.txt\"\n",
    "    elif type == \"free-insert-co-occur\":\n",
    "        prompt_file = \"free-insert-coo_system_prompt.txt\"\n",
    "\n",
    "    elif type == \"mask-fill\" or type == \"mask-fill-with-marker-symbol\":\n",
    "        prompt_file = \"mask-fill_system_prompt.txt\"\n",
    "\n",
    "    res = \"\"\n",
    "    with open(prompt_file) as f:\n",
    "        res = f.read()\n",
    "    if \"with-marker-symbol\" in type:\n",
    "        res = res.replace(\"<introduce_marker_symbol>\", introduce_marker_symbol).replace(\"are curly and ___ are more\", \"are curly [and] ___ are more\")\n",
    "    else:\n",
    "        res = res.replace(\"<introduce_marker_symbol>\", \"\")\n",
    "    return res\n",
    "\n",
    "def prepare_user_prompt(arg1, conn1, arg2, type):\n",
    "    res = \"\"\n",
    "    with open(\"user_prompt.txt\") as f:\n",
    "        res = f.read()\n",
    "\n",
    "    should_capitalize = arg1.rstrip().endswith(('.', '!', '?'))\n",
    "    conn1 = conn1.capitalize() if should_capitalize else conn1\n",
    "\n",
    "    if type == \"free-insert\" or type == \"free-insert-co-occur\":\n",
    "        res = res.replace(\"<passage>\", arg1 + \" [\" + conn1 + \"] \" + arg2)\n",
    "    elif type == \"mask-fill-with-marker-symbol\":\n",
    "        res = res.replace(\"<passage>\", arg1 + \" [\" + conn1 + \"] ___ \" + arg2)\n",
    "    elif type == \"mask-fill\":\n",
    "        res = res.replace(\"<passage>\", arg1 + \" \" + conn1 + \" ___ \" + arg2)\n",
    "    return res\n"
   ]
  },
  {
   "cell_type": "code",
   "execution_count": null,
   "id": "c687d4c8",
   "metadata": {},
   "outputs": [],
   "source": [
    "## CREATE PROMPT SAMPLE\n",
    "\n",
    "# arg1 = '''Jacobs may have gotten a temporary reprieve in the eyes of many rank-and-file fans with the hiring of Coach Malzahn, who has made all the right moves so far.'''\n",
    "# conn1 = \"ultimately,\"\n",
    "# arg2 = '''jacobs is the problem - or, at least, the public face of the problem.'''\n",
    "\n",
    "# for type in [\"mask-fill\", \"mask-fill-with-marker-symbol\", \"free-insert\", \"free-insert-co-occur\"]:\n",
    "    \n",
    "#     print(f\"*************** {type} ***************\")\n",
    "#     system_prompt = prepare_system_prompt(type)\n",
    "#     user_prompt = prepare_user_prompt(arg1, conn1, arg2, type)\n",
    "\n",
    "#     # with open(f\"samples/{type}.txt\", \"w\") as f:\n",
    "#     #     f.write(system_prompt + \"\\n\\n\" + user_prompt)\n",
    "#     print(system_prompt + \"\\n\\n\" + user_prompt)\n",
    "#     print(\"\\n\")"
   ]
  },
  {
   "cell_type": "code",
   "execution_count": null,
   "id": "0ba2a73a",
   "metadata": {},
   "outputs": [],
   "source": [
    "client = openai.OpenAI(\n",
    "    api_key=\"\",\n",
    "\n",
    ")\n",
    "\n",
    "def get_response (arg1, conn1, arg2, type):\n",
    "    response = client.chat.completions.create(\n",
    "        model=\"gpt-4.1-2025-04-14\",  # \"gpt-4o-2024-08-06\"\n",
    "        messages = [\n",
    "            {\n",
    "                \"role\": \"developer\",\n",
    "                \"content\": prepare_system_prompt(type)\n",
    "            },\n",
    "            {\n",
    "                \"role\": \"user\",\n",
    "                \"content\": prepare_user_prompt(arg1, conn1, arg2, type)\n",
    "            }\n",
    "        ]\n",
    "    )\n",
    "    return response.choices[0].message.content\n",
    "\n",
    "def get_dm_for_test_set (df, type):\n",
    "    result = []\n",
    "    for i, r in tqdm(df.iterrows(), total=df.shape[0]):\n",
    "        sentence1, sentence2, dm1 = r[\"sentence1\"], r[\"sentence2\"], r[\"dm1\"]\n",
    "        response = get_response(sentence1, sentence2, dm1, type)\n",
    "        response = response.split(\", \")\n",
    "        result.append(response)\n",
    "    return result\n",
    "\n",
    "def format_dm(xss):\n",
    "    return [[x.lower().strip() for x in xs] for xs in xss]"
   ]
  },
  {
   "cell_type": "markdown",
   "id": "06cef546",
   "metadata": {},
   "source": [
    "# Load Test Set"
   ]
  },
  {
   "cell_type": "code",
   "execution_count": 174,
   "id": "c5535696",
   "metadata": {},
   "outputs": [],
   "source": [
    "folder = \"../../dataset\"\n",
    "os.chdir(folder)"
   ]
  },
  {
   "cell_type": "code",
   "execution_count": 175,
   "id": "635bc5e1",
   "metadata": {},
   "outputs": [
    {
     "data": {
      "text/html": [
       "<div>\n",
       "<style scoped>\n",
       "    .dataframe tbody tr th:only-of-type {\n",
       "        vertical-align: middle;\n",
       "    }\n",
       "\n",
       "    .dataframe tbody tr th {\n",
       "        vertical-align: top;\n",
       "    }\n",
       "\n",
       "    .dataframe thead th {\n",
       "        text-align: right;\n",
       "    }\n",
       "</style>\n",
       "<table border=\"1\" class=\"dataframe\">\n",
       "  <thead>\n",
       "    <tr style=\"text-align: right;\">\n",
       "      <th></th>\n",
       "      <th>id</th>\n",
       "      <th>sentence1</th>\n",
       "      <th>sentence2</th>\n",
       "      <th>dm1</th>\n",
       "      <th>dm2</th>\n",
       "    </tr>\n",
       "  </thead>\n",
       "  <tbody>\n",
       "    <tr>\n",
       "      <th>0</th>\n",
       "      <td>1502</td>\n",
       "      <td>You don't know if it's true or not as a matter...</td>\n",
       "      <td>no one should judge and say anything and let t...</td>\n",
       "      <td>however</td>\n",
       "      <td>therefore</td>\n",
       "    </tr>\n",
       "    <tr>\n",
       "      <th>1</th>\n",
       "      <td>2992</td>\n",
       "      <td>Bloomberg's sensitivity to the climate issue w...</td>\n",
       "      <td>climate change had the last laugh at our polit...</td>\n",
       "      <td>in the end,</td>\n",
       "      <td>however,</td>\n",
       "    </tr>\n",
       "    <tr>\n",
       "      <th>2</th>\n",
       "      <td>1588</td>\n",
       "      <td>If you recall this infomercial from December 2...</td>\n",
       "      <td>it's been a tough year for tv's pitchmen.</td>\n",
       "      <td>overall,</td>\n",
       "      <td>though,</td>\n",
       "    </tr>\n",
       "    <tr>\n",
       "      <th>3</th>\n",
       "      <td>2363</td>\n",
       "      <td>If having specific fonts and layouts matter, P...</td>\n",
       "      <td>it's what you say and not how you say it.</td>\n",
       "      <td>ultimately,</td>\n",
       "      <td>though,</td>\n",
       "    </tr>\n",
       "    <tr>\n",
       "      <th>4</th>\n",
       "      <td>6241</td>\n",
       "      <td>Onclick attribute of an anchor that goes to th...</td>\n",
       "      <td>return false, to avoid any confusion.</td>\n",
       "      <td>anyway,</td>\n",
       "      <td>and</td>\n",
       "    </tr>\n",
       "    <tr>\n",
       "      <th>...</th>\n",
       "      <td>...</td>\n",
       "      <td>...</td>\n",
       "      <td>...</td>\n",
       "      <td>...</td>\n",
       "      <td>...</td>\n",
       "    </tr>\n",
       "    <tr>\n",
       "      <th>253</th>\n",
       "      <td>1798</td>\n",
       "      <td>A device to illustrate silver can be considere...</td>\n",
       "      <td>i wouldn't want to start such a conversation r...</td>\n",
       "      <td>although,</td>\n",
       "      <td>clearly,</td>\n",
       "    </tr>\n",
       "    <tr>\n",
       "      <th>254</th>\n",
       "      <td>6206</td>\n",
       "      <td>Then I give em 60 days during which I'm not go...</td>\n",
       "      <td>i've found you've got to play a little hardball.</td>\n",
       "      <td>but</td>\n",
       "      <td>after that,</td>\n",
       "    </tr>\n",
       "    <tr>\n",
       "      <th>255</th>\n",
       "      <td>1430</td>\n",
       "      <td>About the bus ride there.</td>\n",
       "      <td>this is the worst for me, realizing that somet...</td>\n",
       "      <td>or,</td>\n",
       "      <td>and</td>\n",
       "    </tr>\n",
       "    <tr>\n",
       "      <th>256</th>\n",
       "      <td>455</td>\n",
       "      <td>It has been suggested Horncastle was a storage...</td>\n",
       "      <td>why the need for such strong walls?</td>\n",
       "      <td>again,</td>\n",
       "      <td>though,</td>\n",
       "    </tr>\n",
       "    <tr>\n",
       "      <th>257</th>\n",
       "      <td>726</td>\n",
       "      <td>The methods of the invention can be effected u...</td>\n",
       "      <td>an apparatus of the invention can comprising a...</td>\n",
       "      <td>hence,</td>\n",
       "      <td>for example</td>\n",
       "    </tr>\n",
       "  </tbody>\n",
       "</table>\n",
       "<p>258 rows × 5 columns</p>\n",
       "</div>"
      ],
      "text/plain": [
       "       id                                          sentence1  \\\n",
       "0    1502  You don't know if it's true or not as a matter...   \n",
       "1    2992  Bloomberg's sensitivity to the climate issue w...   \n",
       "2    1588  If you recall this infomercial from December 2...   \n",
       "3    2363  If having specific fonts and layouts matter, P...   \n",
       "4    6241  Onclick attribute of an anchor that goes to th...   \n",
       "..    ...                                                ...   \n",
       "253  1798  A device to illustrate silver can be considere...   \n",
       "254  6206  Then I give em 60 days during which I'm not go...   \n",
       "255  1430                          About the bus ride there.   \n",
       "256   455  It has been suggested Horncastle was a storage...   \n",
       "257   726  The methods of the invention can be effected u...   \n",
       "\n",
       "                                             sentence2          dm1  \\\n",
       "0    no one should judge and say anything and let t...      however   \n",
       "1    climate change had the last laugh at our polit...  in the end,   \n",
       "2            it's been a tough year for tv's pitchmen.     overall,   \n",
       "3            it's what you say and not how you say it.  ultimately,   \n",
       "4                return false, to avoid any confusion.      anyway,   \n",
       "..                                                 ...          ...   \n",
       "253  i wouldn't want to start such a conversation r...    although,   \n",
       "254   i've found you've got to play a little hardball.          but   \n",
       "255  this is the worst for me, realizing that somet...          or,   \n",
       "256                why the need for such strong walls?       again,   \n",
       "257  an apparatus of the invention can comprising a...       hence,   \n",
       "\n",
       "             dm2  \n",
       "0      therefore  \n",
       "1       however,  \n",
       "2        though,  \n",
       "3        though,  \n",
       "4            and  \n",
       "..           ...  \n",
       "253     clearly,  \n",
       "254  after that,  \n",
       "255          and  \n",
       "256      though,  \n",
       "257  for example  \n",
       "\n",
       "[258 rows x 5 columns]"
      ]
     },
     "execution_count": 175,
     "metadata": {},
     "output_type": "execute_result"
    }
   ],
   "source": [
    "test_set = pd.read_csv(\"../dataset/explicit-explicit/discovery/dm1_pdtb/test.csv\")\n",
    "test_set"
   ]
  },
  {
   "cell_type": "code",
   "execution_count": 182,
   "id": "3e67ba7e",
   "metadata": {},
   "outputs": [],
   "source": [
    "folder = \"../model/prompt\"\n",
    "os.chdir(folder)"
   ]
  },
  {
   "cell_type": "markdown",
   "id": "f0e086d4",
   "metadata": {},
   "source": [
    "# Cloze"
   ]
  },
  {
   "cell_type": "code",
   "execution_count": 184,
   "id": "b012b340",
   "metadata": {},
   "outputs": [
    {
     "name": "stderr",
     "output_type": "stream",
     "text": [
      "100%|██████████| 258/258 [03:03<00:00,  1.41it/s]\n"
     ]
    }
   ],
   "source": [
    "mask_fill = get_dm_for_test_set(test_set, \n",
    "                                \"mask-fill\")"
   ]
  },
  {
   "cell_type": "code",
   "execution_count": 185,
   "id": "aff41188",
   "metadata": {},
   "outputs": [],
   "source": [
    "mask_fill = format_dm(mask_fill)\n",
    "test_set[\"cloze\"] = mask_fill"
   ]
  },
  {
   "cell_type": "code",
   "execution_count": null,
   "id": "ff6d9dd2",
   "metadata": {},
   "outputs": [
    {
     "data": {
      "text/plain": [
       "0.32558139534883723"
      ]
     },
     "execution_count": 186,
     "metadata": {},
     "output_type": "execute_result"
    }
   ],
   "source": [
    "len(test_set[test_set.apply(lambda r: r[\"dm2\"].lower().rstrip(\", \") in r[\"cloze\"], axis=1)])/ len(test_set)"
   ]
  },
  {
   "cell_type": "markdown",
   "id": "0d1afe55",
   "metadata": {},
   "source": [
    "# Cloze DM marked"
   ]
  },
  {
   "cell_type": "code",
   "execution_count": 187,
   "id": "c771fab9",
   "metadata": {},
   "outputs": [
    {
     "name": "stderr",
     "output_type": "stream",
     "text": [
      "100%|██████████| 258/258 [03:30<00:00,  1.22it/s]\n"
     ]
    }
   ],
   "source": [
    "cloze_dm_marked = get_dm_for_test_set(test_set, \n",
    "                                \"mask-fill-with-marker-symbol\")"
   ]
  },
  {
   "cell_type": "code",
   "execution_count": null,
   "id": "95e6fb92",
   "metadata": {},
   "outputs": [],
   "source": [
    "cloze_dm_marked = format_dm(cloze_dm_marked)\n",
    "test_set[\"cloze_dm_marked\"] = cloze_dm_marked"
   ]
  },
  {
   "cell_type": "code",
   "execution_count": null,
   "id": "690ebeb7",
   "metadata": {},
   "outputs": [],
   "source": [
    "len(test_set[test_set.apply(lambda r: r[\"dm2\"].lower().rstrip(\", \") in r[\"cloze_dm_marked\"], axis=1)])/len(test_set)"
   ]
  },
  {
   "cell_type": "markdown",
   "id": "2a5cc04a",
   "metadata": {},
   "source": [
    "# Free Insert"
   ]
  },
  {
   "cell_type": "code",
   "execution_count": null,
   "id": "29d88493",
   "metadata": {},
   "outputs": [],
   "source": [
    "free_insert = get_dm_for_test_set(test_set, \n",
    "                                \"free-insert\")"
   ]
  },
  {
   "cell_type": "code",
   "execution_count": 198,
   "id": "3a2ef307",
   "metadata": {},
   "outputs": [],
   "source": [
    "free_insert = format_dm(free_insert)\n",
    "test_set[\"free_insert\"] = free_insert"
   ]
  },
  {
   "cell_type": "code",
   "execution_count": 207,
   "id": "0fecfa77",
   "metadata": {},
   "outputs": [
    {
     "data": {
      "text/plain": [
       "0.34108527131782945"
      ]
     },
     "execution_count": 207,
     "metadata": {},
     "output_type": "execute_result"
    }
   ],
   "source": [
    "len(test_set[test_set.apply(lambda r: r[\"dm2\"].lower().rstrip(\", \") in r[\"free_insert\"], axis=1)])/len(test_set)"
   ]
  },
  {
   "cell_type": "markdown",
   "id": "8115b285",
   "metadata": {},
   "source": [
    "# Load Test Set with Predictions"
   ]
  },
  {
   "cell_type": "code",
   "execution_count": null,
   "id": "75630aba",
   "metadata": {},
   "outputs": [],
   "source": [
    "# Save as Pickle as it contains List DataType\n",
    "model_name = \"\"\n",
    "data_split = \"\"\n",
    "test_set.to_pickle(f\"{model_name}_{data_split}_result.pkl\")"
   ]
  },
  {
   "cell_type": "markdown",
   "id": "8286411b",
   "metadata": {},
   "source": [
    "# Load Test Set with Predictions"
   ]
  },
  {
   "cell_type": "code",
   "execution_count": null,
   "id": "164bd134",
   "metadata": {},
   "outputs": [],
   "source": [
    "df = pd.read_pickle(\"\")\n",
    "df"
   ]
  },
  {
   "cell_type": "markdown",
   "id": "f878f316",
   "metadata": {},
   "source": [
    "# View Test Set"
   ]
  },
  {
   "cell_type": "code",
   "execution_count": null,
   "id": "405f6bb9",
   "metadata": {},
   "outputs": [],
   "source": [
    "HTML(test_set.to_html())"
   ]
  }
 ],
 "metadata": {
  "kernelspec": {
   "display_name": "base",
   "language": "python",
   "name": "python3"
  },
  "language_info": {
   "codemirror_mode": {
    "name": "ipython",
    "version": 3
   },
   "file_extension": ".py",
   "mimetype": "text/x-python",
   "name": "python",
   "nbconvert_exporter": "python",
   "pygments_lexer": "ipython3",
   "version": "3.11.8"
  }
 },
 "nbformat": 4,
 "nbformat_minor": 5
}
